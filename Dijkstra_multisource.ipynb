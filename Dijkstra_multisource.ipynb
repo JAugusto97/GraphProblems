{
 "cells": [
  {
   "cell_type": "code",
   "execution_count": 1,
   "metadata": {},
   "outputs": [],
   "source": [
    "import networkx as nx\n",
    "import pandas as pd\n",
    "import numpy as np\n",
    "import matplotlib.pyplot as plt"
   ]
  },
  {
   "cell_type": "code",
   "execution_count": 27,
   "metadata": {},
   "outputs": [
    {
     "name": "stdout",
     "output_type": "stream",
     "text": [
      "2 34\n"
     ]
    }
   ],
   "source": [
    "S = input() #leitura de uma linha com os vértices\n",
    "S = S.split(' ')\n",
    "S = [int(i) for i in S] #conjunto vértices iniciais"
   ]
  },
  {
   "cell_type": "code",
   "execution_count": 28,
   "metadata": {},
   "outputs": [],
   "source": [
    "def Dijkstra_multisource(G,S):\n",
    "    \n",
    "    nx.set_node_attributes(G, np.Inf, 'lambda') # setar lambda \n",
    "    nx.set_node_attributes(G, None, 'pi') # setar pi\n",
    "    \n",
    "    lamb = {i: np.Inf for i in G.nodes().keys()} #dicionário com o lambda dos vertices\n",
    "\n",
    "    lamb.update({i: 0 for i in S}) #o lambda de todos os vértices iniciais recebem 0\n",
    "    for v in S:    \n",
    "        G.node[v]['lambda'] = 0\n",
    "    \n",
    "    while bool(lamb): #enquanto houver vértices no dicionário\n",
    "        u = min(lamb, key=lamb.get)  #pega o vértice com menor lambda\n",
    "        \n",
    "        for v in nx.neighbors(G,u): #para todos os vizinhos de u\n",
    "            \n",
    "            #se v estiver no dicionário e o custo para chegar em v\n",
    "            #passando por u for menor que o lambda de v\n",
    "            #atualização do lambda de v\n",
    "            if v in lamb.keys() and G.edges[v,u]['weight'] + lamb[u] < lamb[v]:\n",
    "                lamb[v] = G.edges[v,u]['weight'] + lamb[u]\n",
    "                G.node[v]['lambda'] = G.edges[v,u]['weight'] + lamb[u]\n",
    "                G.node[v]['pi'] = u #atualização do pi de v\n",
    "        \n",
    "        del lamb[u] #remover o vértice u\n",
    "    \n",
    "    resultados = {} #dicionario com os resultados\n",
    "    resultados['pi'] = nx.get_node_attributes(G,'pi')\n",
    "    resultados['lambda'] = nx.get_node_attributes(G,'lambda') \n",
    "    \n",
    "    Dm = pd.DataFrame(resultados) #Dataframe com os resultados\n",
    "    \n",
    "    Forest = nx.Graph() #criação da floresta\n",
    "    Forest.add_nodes_from(G) #adição dos vértices de G na floresta\n",
    "\n",
    "    for k in G.nodes().keys(): #Criacao das arestas na floresta\n",
    "        if resultados['pi'][k] != None: #se nao for vértice inicial liga ao pai\n",
    "            Forest.add_edge(k,resultados['pi'][k])\n",
    "        \n",
    "    return(Dm,Forest) #retorna uma tupla com o Dataframe e a floresta"
   ]
  },
  {
   "cell_type": "code",
   "execution_count": 12,
   "metadata": {},
   "outputs": [],
   "source": [
    "A = np.loadtxt('WG59/wg59_dist.txt')\n",
    "G = nx.from_numpy_matrix(A)"
   ]
  },
  {
   "cell_type": "code",
   "execution_count": 29,
   "metadata": {},
   "outputs": [
    {
     "data": {
      "image/png": "[encoded data removed]",
      "text/plain": [
       "<Figure size 432x288 with 1 Axes>"
      ]
     },
     "metadata": {},
     "output_type": "display_data"
    }
   ],
   "source": [
    "(r,F) = Dijkstra_multisource(G,S)\n",
    "if nx.is_forest(F):\n",
    "    nx.draw(F)\n",
    "    plt.show() # display"
   ]
  },
  {
   "cell_type": "code",
   "execution_count": 42,
   "metadata": {},
   "outputs": [
    {
     "data": {
      "text/html": [
       "<div>\n",
       "<style scoped>\n",
       "    .dataframe tbody tr th:only-of-type {\n",
       "        vertical-align: middle;\n",
       "    }\n",
       "\n",
       "    .dataframe tbody tr th {\n",
       "        vertical-align: top;\n",
       "    }\n",
       "\n",
       "    .dataframe thead th {\n",
       "        text-align: right;\n",
       "    }\n",
       "</style>\n",
       "<table border=\"1\" class=\"dataframe\">\n",
       "  <thead>\n",
       "    <tr style=\"text-align: right;\">\n",
       "      <th></th>\n",
       "      <th>pi</th>\n",
       "      <th>lambda</th>\n",
       "    </tr>\n",
       "  </thead>\n",
       "  <tbody>\n",
       "    <tr>\n",
       "      <th>50</th>\n",
       "      <td>34.0</td>\n",
       "      <td>40.0</td>\n",
       "    </tr>\n",
       "    <tr>\n",
       "      <th>51</th>\n",
       "      <td>55.0</td>\n",
       "      <td>121.0</td>\n",
       "    </tr>\n",
       "    <tr>\n",
       "      <th>52</th>\n",
       "      <td>34.0</td>\n",
       "      <td>71.0</td>\n",
       "    </tr>\n",
       "    <tr>\n",
       "      <th>53</th>\n",
       "      <td>2.0</td>\n",
       "      <td>41.0</td>\n",
       "    </tr>\n",
       "    <tr>\n",
       "      <th>54</th>\n",
       "      <td>34.0</td>\n",
       "      <td>96.0</td>\n",
       "    </tr>\n",
       "    <tr>\n",
       "      <th>55</th>\n",
       "      <td>2.0</td>\n",
       "      <td>35.0</td>\n",
       "    </tr>\n",
       "    <tr>\n",
       "      <th>56</th>\n",
       "      <td>34.0</td>\n",
       "      <td>72.0</td>\n",
       "    </tr>\n",
       "    <tr>\n",
       "      <th>57</th>\n",
       "      <td>2.0</td>\n",
       "      <td>81.0</td>\n",
       "    </tr>\n",
       "    <tr>\n",
       "      <th>58</th>\n",
       "      <td>2.0</td>\n",
       "      <td>29.0</td>\n",
       "    </tr>\n",
       "  </tbody>\n",
       "</table>\n",
       "</div>"
      ],
      "text/plain": [
       "      pi  lambda\n",
       "50  34.0    40.0\n",
       "51  55.0   121.0\n",
       "52  34.0    71.0\n",
       "53   2.0    41.0\n",
       "54  34.0    96.0\n",
       "55   2.0    35.0\n",
       "56  34.0    72.0\n",
       "57   2.0    81.0\n",
       "58   2.0    29.0"
      ]
     },
     "execution_count": 42,
     "metadata": {},
     "output_type": "execute_result"
    }
   ],
   "source": [
    "r[50:]"
   ]
  }
 ],
 "metadata": {
  "kernelspec": {
   "display_name": "Python 3",
   "language": "python",
   "name": "python3"
  },
  "language_info": {
   "codemirror_mode": {
    "name": "ipython",
    "version": 3
   },
   "file_extension": ".py",
   "mimetype": "text/x-python",
   "name": "python",
   "nbconvert_exporter": "python",
   "pygments_lexer": "ipython3",
   "version": "3.6.6"
  }
 },
 "nbformat": 4,
 "nbformat_minor": 2
}
