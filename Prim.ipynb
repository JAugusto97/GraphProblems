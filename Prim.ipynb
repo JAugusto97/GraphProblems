{
 "cells": [
  {
   "cell_type": "code",
   "execution_count": 1,
   "metadata": {},
   "outputs": [],
   "source": [
    "import networkx as nx\n",
    "import pandas as pd\n",
    "import numpy as np\n",
    "import matplotlib.pyplot as plt"
   ]
  },
  {
   "cell_type": "code",
   "execution_count": 2,
   "metadata": {},
   "outputs": [],
   "source": [
    "def MST_Prim(G,v_inicial):\n",
    "            \n",
    "    nx.set_node_attributes(G, np.Inf, 'lambda') # setar lambda \n",
    "    nx.set_node_attributes(G, None, 'pi') # setar pi\n",
    "    \n",
    "    lamb = {i: np.Inf for i in G.nodes().keys()} #dicionario do lambda dos vertices\n",
    "    \n",
    "    lamb[v_inicial] = 0 #lambda do v_inicial recebe 0\n",
    "    \n",
    "    G.node[v_inicial]['lambda'] = 0\n",
    "    \n",
    "    while bool(lamb):  #enquanto houver vertice no dicionario\n",
    "        u = min(lamb, key=lamb.get)\n",
    "        \n",
    "        for v in nx.neighbors(G,u): #vizinhança de u\n",
    "            if  v in lamb.keys() and G.edges[v,u]['weight'] < lamb[v]: #se aresta(u,v) < lambda[v]\n",
    "                                                                       #e v ainda estiver no dic\n",
    "                lamb[v] = G.edges[v,u]['weight']   #atualiza o lambda\n",
    "                G.node[v]['lambda'] = G.edges[v,u]['weight']  \n",
    "                G.node[v]['pi'] = u   #atualiza o pi - pai do vertice\n",
    "\n",
    "        del lamb[u]  #tira o vertice u do dicionario\n",
    "\n",
    "    resultados = {}  #dicionario com os resultados\n",
    "    resultados['pi'] = nx.get_node_attributes(G,'pi')\n",
    "    resultados['lambda'] = nx.get_node_attributes(G,'lambda') \n",
    "    \n",
    "    Pr = pd.DataFrame(resultados) #Dataframe dos resultados \n",
    "    MST = nx.Graph() #Criação da arvore - MST\n",
    "    MST.add_nodes_from(G)  #adição dos vertices\n",
    "    \n",
    "    for k in G.nodes().keys(): #Criacao das arestas na arvore a partir do pi\n",
    "        if k != v_inicial:\n",
    "            MST.add_edge(k,resultados['pi'][k], weight=resultados['lambda'][k])\n",
    "    \n",
    "    return (Pr,MST) #retorna uma tupla com o dataframe dos resultados e a arvore"
   ]
  },
  {
   "cell_type": "code",
   "execution_count": 3,
   "metadata": {},
   "outputs": [],
   "source": [
    "A = np.loadtxt('ha30/ha30_dist.txt')\n",
    "G = nx.from_numpy_matrix(A)"
   ]
  },
  {
   "cell_type": "code",
   "execution_count": 4,
   "metadata": {},
   "outputs": [
    {
     "name": "stderr",
     "output_type": "stream",
     "text": [
      "/home/caio/miniconda3/lib/python3.6/site-packages/networkx/drawing/nx_pylab.py:611: MatplotlibDeprecationWarning: isinstance(..., numbers.Number)\n",
      "  if cb.is_numlike(alpha):\n"
     ]
    },
    {
     "data": {
      "image/png": "[encoded data removed]",
      "text/plain": [
       "<Figure size 432x288 with 1 Axes>"
      ]
     },
     "metadata": {},
     "output_type": "display_data"
    }
   ],
   "source": [
    "(TabResultados,T1) = MST_Prim(G,1)\n",
    "if nx.is_tree(T1):\n",
    "    nx.draw(T1)\n",
    "    plt.show() # display"
   ]
  },
  {
   "cell_type": "code",
   "execution_count": 5,
   "metadata": {},
   "outputs": [
    {
     "name": "stdout",
     "output_type": "stream",
     "text": [
      "403.0\n"
     ]
    }
   ],
   "source": [
    "s = 0\n",
    "for e in T1.edges:\n",
    "    s += T1.edges[e[0],e[1]]['weight']\n",
    "print(s)"
   ]
  },
  {
   "cell_type": "code",
   "execution_count": 11,
   "metadata": {},
   "outputs": [
    {
     "data": {
      "text/html": [
       "<div>\n",
       "<style scoped>\n",
       "    .dataframe tbody tr th:only-of-type {\n",
       "        vertical-align: middle;\n",
       "    }\n",
       "\n",
       "    .dataframe tbody tr th {\n",
       "        vertical-align: top;\n",
       "    }\n",
       "\n",
       "    .dataframe thead th {\n",
       "        text-align: right;\n",
       "    }\n",
       "</style>\n",
       "<table border=\"1\" class=\"dataframe\">\n",
       "  <thead>\n",
       "    <tr style=\"text-align: right;\">\n",
       "      <th></th>\n",
       "      <th>pi</th>\n",
       "      <th>lambda</th>\n",
       "    </tr>\n",
       "  </thead>\n",
       "  <tbody>\n",
       "    <tr>\n",
       "      <th>14</th>\n",
       "      <td>28.0</td>\n",
       "      <td>4.0</td>\n",
       "    </tr>\n",
       "    <tr>\n",
       "      <th>15</th>\n",
       "      <td>18.0</td>\n",
       "      <td>9.0</td>\n",
       "    </tr>\n",
       "    <tr>\n",
       "      <th>16</th>\n",
       "      <td>0.0</td>\n",
       "      <td>24.0</td>\n",
       "    </tr>\n",
       "    <tr>\n",
       "      <th>17</th>\n",
       "      <td>2.0</td>\n",
       "      <td>10.0</td>\n",
       "    </tr>\n",
       "    <tr>\n",
       "      <th>18</th>\n",
       "      <td>7.0</td>\n",
       "      <td>8.0</td>\n",
       "    </tr>\n",
       "    <tr>\n",
       "      <th>19</th>\n",
       "      <td>16.0</td>\n",
       "      <td>3.0</td>\n",
       "    </tr>\n",
       "    <tr>\n",
       "      <th>20</th>\n",
       "      <td>15.0</td>\n",
       "      <td>15.0</td>\n",
       "    </tr>\n",
       "    <tr>\n",
       "      <th>21</th>\n",
       "      <td>2.0</td>\n",
       "      <td>5.0</td>\n",
       "    </tr>\n",
       "    <tr>\n",
       "      <th>22</th>\n",
       "      <td>4.0</td>\n",
       "      <td>12.0</td>\n",
       "    </tr>\n",
       "    <tr>\n",
       "      <th>23</th>\n",
       "      <td>10.0</td>\n",
       "      <td>9.0</td>\n",
       "    </tr>\n",
       "    <tr>\n",
       "      <th>24</th>\n",
       "      <td>26.0</td>\n",
       "      <td>7.0</td>\n",
       "    </tr>\n",
       "    <tr>\n",
       "      <th>25</th>\n",
       "      <td>20.0</td>\n",
       "      <td>31.0</td>\n",
       "    </tr>\n",
       "    <tr>\n",
       "      <th>26</th>\n",
       "      <td>7.0</td>\n",
       "      <td>17.0</td>\n",
       "    </tr>\n",
       "    <tr>\n",
       "      <th>27</th>\n",
       "      <td>3.0</td>\n",
       "      <td>31.0</td>\n",
       "    </tr>\n",
       "    <tr>\n",
       "      <th>28</th>\n",
       "      <td>8.0</td>\n",
       "      <td>33.0</td>\n",
       "    </tr>\n",
       "    <tr>\n",
       "      <th>29</th>\n",
       "      <td>27.0</td>\n",
       "      <td>11.0</td>\n",
       "    </tr>\n",
       "  </tbody>\n",
       "</table>\n",
       "</div>"
      ],
      "text/plain": [
       "      pi  lambda\n",
       "14  28.0     4.0\n",
       "15  18.0     9.0\n",
       "16   0.0    24.0\n",
       "17   2.0    10.0\n",
       "18   7.0     8.0\n",
       "19  16.0     3.0\n",
       "20  15.0    15.0\n",
       "21   2.0     5.0\n",
       "22   4.0    12.0\n",
       "23  10.0     9.0\n",
       "24  26.0     7.0\n",
       "25  20.0    31.0\n",
       "26   7.0    17.0\n",
       "27   3.0    31.0\n",
       "28   8.0    33.0\n",
       "29  27.0    11.0"
      ]
     },
     "execution_count": 11,
     "metadata": {},
     "output_type": "execute_result"
    }
   ],
   "source": [
    "TabResultados[14:]"
   ]
  }
 ],
 "metadata": {
  "kernelspec": {
   "display_name": "Python 3",
   "language": "python",
   "name": "python3"
  },
  "language_info": {
   "codemirror_mode": {
    "name": "ipython",
    "version": 3
   },
   "file_extension": ".py",
   "mimetype": "text/x-python",
   "name": "python",
   "nbconvert_exporter": "python",
   "pygments_lexer": "ipython3",
   "version": "3.6.6"
  }
 },
 "nbformat": 4,
 "nbformat_minor": 2
}
