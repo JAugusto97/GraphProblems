{
 "cells": [
  {
   "cell_type": "markdown",
   "metadata": {},
   "source": [
    "# Trabalho 1 de Grafos: Snakes and Ladders"
   ]
  },
  {
   "cell_type": "markdown",
   "metadata": {},
   "source": [
    "## Autores: \n",
    "    Nome:                       RA:\n",
    "    Joao Augusto Leite          743551\n",
    "    Caio Ueno                   743516\n",
    "    Daniel Moura                743525"
   ]
  },
  {
   "cell_type": "code",
   "execution_count": 1,
   "metadata": {},
   "outputs": [],
   "source": [
    "import networkx as nx\n",
    "import numpy as np"
   ]
  },
  {
   "cell_type": "markdown",
   "metadata": {},
   "source": [
    "## Funções"
   ]
  },
  {
   "cell_type": "code",
   "execution_count": 2,
   "metadata": {},
   "outputs": [],
   "source": [
    "def gen_edges():\n",
    "    \"\"\"Gera a lista de arestas para o digrafo\"\"\"\n",
    "    edges = []\n",
    "    for i in range(1,36):\n",
    "        edges.append((i,i+1))\n",
    "        if (i+2 <= 36):\n",
    "            edges.append((i, i+2))\n",
    "    return edges\n",
    "\n",
    "def gen_inversedegree(G):\n",
    "    \"\"\"Gera uma lista com o inverso dos graus de um grafo\"\"\"\n",
    "    degrees_G = []\n",
    "    for d in dict(G.out_degree()).values():\n",
    "        degrees_G.append(1/d)\n",
    "\n",
    "    return degrees_G\n",
    "\n",
    "def power_method(P,w,it):\n",
    "    \"\"\"Calcula a distribuicao estacionaria usando o power method\"\"\"\n",
    "    return (w @ np.linalg.matrix_power(P,it))\n",
    "\n",
    "def Google_matrix(P,alfa):\n",
    "    \"\"\"Gera a matriz P barra (google matrix)\"\"\"\n",
    "    P_Barra = (1-alfa)*P + (alfa/P.shape[0])*np.ones((36,36))\n",
    "    return P_Barra"
   ]
  },
  {
   "cell_type": "markdown",
   "metadata": {},
   "source": [
    "## Criando o grafo e gerando as arestas"
   ]
  },
  {
   "cell_type": "code",
   "execution_count": 3,
   "metadata": {
    "scrolled": true
   },
   "outputs": [
    {
     "data": {
      "text/plain": [
       "OutDegreeView({1: 2, 2: 1, 3: 2, 4: 2, 5: 1, 6: 2, 7: 2, 8: 2, 9: 1, 10: 2, 11: 2, 12: 2, 13: 2, 14: 2, 15: 2, 16: 2, 17: 1, 18: 1, 19: 2, 20: 1, 21: 2, 22: 2, 23: 2, 24: 1, 25: 1, 26: 2, 27: 2, 28: 2, 29: 2, 30: 2, 31: 2, 32: 1, 33: 2, 34: 1, 35: 1, 36: 1})"
      ]
     },
     "execution_count": 3,
     "metadata": {},
     "output_type": "execute_result"
    }
   ],
   "source": [
    "G = nx.DiGraph()\n",
    "G.add_nodes_from(range(1,37))  # Adiciona 36 vertices no grafo G\n",
    "G.add_edges_from(gen_edges())  # Adiciona as arestas entre os vertices\n",
    "G.add_edges_from([(2,15), (5,7), (9,27), (18,29), (25,35)]) # Adiciona as arestas 'Ladders'\n",
    "G.add_edges_from([(17,4), (20,6), (32,30), (34,12), (24,16)]) # Adiciona as arestas 'Snakes'\n",
    "G.add_edge(36,36)\n",
    "G.remove_edges_from([(2,3),(2,4),(5,6),(9,10),(9,11),\n",
    "                     (17,18),(17,19),(18,19),(18,20),\n",
    "                     (20,21),(20,22),(24,25),(24,26),\n",
    "                     (25,26),(25,27),(32,33),(32,34),\n",
    "                     (34,35),(34,36)])\n",
    "G.out_degree()"
   ]
  },
  {
   "cell_type": "code",
   "execution_count": 4,
   "metadata": {},
   "outputs": [
    {
     "data": {
      "text/plain": [
       "array([[0, 1, 1, ..., 0, 0, 0],\n",
       "       [0, 0, 0, ..., 0, 0, 0],\n",
       "       [0, 0, 0, ..., 0, 0, 0],\n",
       "       ...,\n",
       "       [0, 0, 0, ..., 0, 0, 0],\n",
       "       [0, 0, 0, ..., 0, 0, 1],\n",
       "       [0, 0, 0, ..., 0, 0, 1]], dtype=int64)"
      ]
     },
     "execution_count": 4,
     "metadata": {},
     "output_type": "execute_result"
    }
   ],
   "source": [
    "adj_matrix = nx.adjacency_matrix(G).toarray() # Gera a matriz de adjacencias de G\n",
    "adj_matrix"
   ]
  },
  {
   "cell_type": "code",
   "execution_count": 5,
   "metadata": {
    "scrolled": false
   },
   "outputs": [
    {
     "data": {
      "text/plain": [
       "array([0.5, 1. , 0.5, 0.5, 1. , 0.5, 0.5, 0.5, 1. , 0.5, 0.5, 0.5, 0.5,\n",
       "       0.5, 0.5, 0.5, 1. , 1. , 0.5, 1. , 0.5, 0.5, 0.5, 1. , 1. , 0.5,\n",
       "       0.5, 0.5, 0.5, 0.5, 0.5, 1. , 0.5, 1. , 1. , 1. ])"
      ]
     },
     "execution_count": 5,
     "metadata": {},
     "output_type": "execute_result"
    }
   ],
   "source": [
    "delta = np.zeros((36,36))               \n",
    "np.fill_diagonal(delta,gen_inversedegree(G)) #Gera a matriz delta\n",
    "delta.diagonal() #Diagonal de Delta"
   ]
  },
  {
   "cell_type": "markdown",
   "metadata": {},
   "source": [
    "## Gerando a Matriz P"
   ]
  },
  {
   "cell_type": "code",
   "execution_count": 6,
   "metadata": {
    "scrolled": false
   },
   "outputs": [
    {
     "data": {
      "text/plain": [
       "array([[0. , 0.5, 0.5, ..., 0. , 0. , 0. ],\n",
       "       [0. , 0. , 0. , ..., 0. , 0. , 0. ],\n",
       "       [0. , 0. , 0. , ..., 0. , 0. , 0. ],\n",
       "       ...,\n",
       "       [0. , 0. , 0. , ..., 0. , 0. , 0. ],\n",
       "       [0. , 0. , 0. , ..., 0. , 0. , 1. ],\n",
       "       [0. , 0. , 0. , ..., 0. , 0. , 1. ]])"
      ]
     },
     "execution_count": 6,
     "metadata": {},
     "output_type": "execute_result"
    }
   ],
   "source": [
    "P = delta @ adj_matrix                     #Gera a matriz P\n",
    "P"
   ]
  },
  {
   "cell_type": "code",
   "execution_count": 7,
   "metadata": {},
   "outputs": [
    {
     "data": {
      "text/plain": [
       "array([1., 0., 0., 0., 0., 0., 0., 0., 0., 0., 0., 0., 0., 0., 0., 0., 0.,\n",
       "       0., 0., 0., 0., 0., 0., 0., 0., 0., 0., 0., 0., 0., 0., 0., 0., 0.,\n",
       "       0., 0.])"
      ]
     },
     "execution_count": 7,
     "metadata": {},
     "output_type": "execute_result"
    }
   ],
   "source": [
    "w = np.zeros(36)\n",
    "w[0] = 1\n",
    "w # Estado inicial"
   ]
  },
  {
   "cell_type": "code",
   "execution_count": 8,
   "metadata": {},
   "outputs": [
    {
     "data": {
      "text/plain": [
       "array([0.00000000e+00, 0.00000000e+00, 0.00000000e+00, 1.98761390e-03,\n",
       "       1.02459294e-03, 1.02459294e-03, 1.58449826e-03, 1.34495718e-03,\n",
       "       1.51010175e-03, 6.93310659e-04, 3.57394211e-04, 2.45306526e-03,\n",
       "       1.44876097e-03, 2.01134833e-03, 1.78364802e-03, 1.95627878e-03,\n",
       "       1.92789133e-03, 1.00844036e-03, 0.00000000e+00, 0.00000000e+00,\n",
       "       0.00000000e+00, 0.00000000e+00, 0.00000000e+00, 0.00000000e+00,\n",
       "       0.00000000e+00, 0.00000000e+00, 1.55688234e-03, 8.02556150e-04,\n",
       "       2.25594496e-03, 1.12788829e-02, 6.97705430e-03, 9.41073412e-03,\n",
       "       3.59659439e-03, 1.85400481e-03, 1.85400481e-03, 9.38296846e-01])"
      ]
     },
     "execution_count": 8,
     "metadata": {},
     "output_type": "execute_result"
    }
   ],
   "source": [
    "# Distribuicao Estacionaria de P\n",
    "distr_estac_P = power_method(P,w,100)\n",
    "distr_estac_P"
   ]
  },
  {
   "cell_type": "code",
   "execution_count": 22,
   "metadata": {},
   "outputs": [
    {
     "name": "stdout",
     "output_type": "stream",
     "text": [
      "Vertice com a maior probabilidade de ser atingido: 35\n",
      "Probabilidade de vencer o jogo: 0.9382968462656478\n",
      "Soma de todas as probabilidades: 1.0\n"
     ]
    }
   ],
   "source": [
    "print(\"Vertice com a maior probabilidade de ser atingido:\", distr_estac_P.argmax())\n",
    "print(\"Probabilidade de vencer o jogo:\", distr_estac_P.max())\n",
    "print(\"Soma de todas as probabilidades:\", distr_estac_P.sum())"
   ]
  },
  {
   "cell_type": "markdown",
   "metadata": {},
   "source": [
    "## Gerando a matriz P_"
   ]
  },
  {
   "cell_type": "code",
   "execution_count": 10,
   "metadata": {},
   "outputs": [
    {
     "data": {
      "text/plain": [
       "array([[0.00277778, 0.45277778, 0.45277778, ..., 0.00277778, 0.00277778,\n",
       "        0.00277778],\n",
       "       [0.00277778, 0.00277778, 0.00277778, ..., 0.00277778, 0.00277778,\n",
       "        0.00277778],\n",
       "       [0.00277778, 0.00277778, 0.00277778, ..., 0.00277778, 0.00277778,\n",
       "        0.00277778],\n",
       "       ...,\n",
       "       [0.00277778, 0.00277778, 0.00277778, ..., 0.00277778, 0.00277778,\n",
       "        0.00277778],\n",
       "       [0.00277778, 0.00277778, 0.00277778, ..., 0.00277778, 0.00277778,\n",
       "        0.90277778],\n",
       "       [0.00277778, 0.00277778, 0.00277778, ..., 0.00277778, 0.00277778,\n",
       "        0.90277778]])"
      ]
     },
     "execution_count": 10,
     "metadata": {},
     "output_type": "execute_result"
    }
   ],
   "source": [
    "# Matriz P barra\n",
    "P_ = Google_matrix(P,0.1)\n",
    "P_"
   ]
  },
  {
   "cell_type": "code",
   "execution_count": 11,
   "metadata": {},
   "outputs": [
    {
     "data": {
      "text/plain": [
       "array([0.00277778, 0.00402778, 0.00402778, 0.03073341, 0.01842031,\n",
       "       0.02023281, 0.02846083, 0.02468992, 0.02669562, 0.01388824,\n",
       "       0.00902749, 0.02797841, 0.01943043, 0.02411176, 0.02599677,\n",
       "       0.03238132, 0.02904792, 0.01734937, 0.00277778, 0.00402778,\n",
       "       0.00402778, 0.00459028, 0.0066559 , 0.00783856, 0.00577293,\n",
       "       0.00277778, 0.02805383, 0.016652  , 0.03850984, 0.09265671,\n",
       "       0.06180274, 0.07228454, 0.03058901, 0.01654284, 0.02173848,\n",
       "       0.22342326])"
      ]
     },
     "execution_count": 11,
     "metadata": {},
     "output_type": "execute_result"
    }
   ],
   "source": [
    "# Distribuicao Estacionaria de P_\n",
    "distr_estac_P_ = power_method(P_,w,100)\n",
    "distr_estac_P_"
   ]
  },
  {
   "cell_type": "code",
   "execution_count": 23,
   "metadata": {},
   "outputs": [
    {
     "data": {
      "text/plain": [
       "0.9999999999999974"
      ]
     },
     "execution_count": 23,
     "metadata": {},
     "output_type": "execute_result"
    }
   ],
   "source": [
    "distr_estac_P_.sum() "
   ]
  },
  {
   "cell_type": "markdown",
   "metadata": {},
   "source": [
    "## Comparando as distribuições estacionárias de P e P_"
   ]
  },
  {
   "cell_type": "code",
   "execution_count": 13,
   "metadata": {},
   "outputs": [
    {
     "data": {
      "text/plain": [
       "array([False, False, False, False, False, False, False, False, False,\n",
       "       False, False, False, False, False, False, False, False, False,\n",
       "       False, False, False, False, False, False, False, False, False,\n",
       "       False, False, False, False, False, False, False, False, False])"
      ]
     },
     "execution_count": 13,
     "metadata": {},
     "output_type": "execute_result"
    }
   ],
   "source": [
    "distr_estac_P == distr_estac_P_"
   ]
  },
  {
   "cell_type": "code",
   "execution_count": 14,
   "metadata": {
    "scrolled": true
   },
   "outputs": [
    {
     "data": {
      "text/plain": [
       "array([ True,  True,  True,  True,  True,  True,  True,  True,  True,\n",
       "        True,  True,  True,  True,  True,  True,  True,  True,  True,\n",
       "        True,  True,  True,  True,  True,  True,  True,  True,  True,\n",
       "        True,  True,  True,  True,  True,  True,  True,  True, False])"
      ]
     },
     "execution_count": 14,
     "metadata": {},
     "output_type": "execute_result"
    }
   ],
   "source": [
    "distr_estac_P_ > distr_estac_P"
   ]
  },
  {
   "cell_type": "code",
   "execution_count": 32,
   "metadata": {},
   "outputs": [
    {
     "name": "stdout",
     "output_type": "stream",
     "text": [
      "Vertice com a maior probabilidade de ser atingido: 35\n",
      "Probabilidade de vencer o jogo: 0.22342326218710654\n",
      "Soma de todas as probabilidades: 0.9999999999999974\n"
     ]
    }
   ],
   "source": [
    "print(\"Vertice com a maior probabilidade de ser atingido:\", distr_estac_P_.argmax())\n",
    "print(\"Probabilidade de vencer o jogo:\", distr_estac_P_.max())\n",
    "print(\"Soma de todas as probabilidades:\", distr_estac_P_.sum())"
   ]
  }
 ],
 "metadata": {
  "kernelspec": {
   "display_name": "Python 3",
   "language": "python",
   "name": "python3"
  },
  "language_info": {
   "codemirror_mode": {
    "name": "ipython",
    "version": 3
   },
   "file_extension": ".py",
   "mimetype": "text/x-python",
   "name": "python",
   "nbconvert_exporter": "python",
   "pygments_lexer": "ipython3",
   "version": "3.7.1rc1"
  }
 },
 "nbformat": 4,
 "nbformat_minor": 2
}
