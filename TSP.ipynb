{
 "cells": [
  {
   "cell_type": "code",
   "execution_count": 1,
   "metadata": {},
   "outputs": [],
   "source": [
    "import networkx as nx\n",
    "import numpy as np"
   ]
  },
  {
   "cell_type": "code",
   "execution_count": 2,
   "metadata": {},
   "outputs": [],
   "source": [
    "# Essa função calcula o peso total do caminho \n",
    "def w(G, path):\n",
    "    sum = 0\n",
    "    for i in range(0,len(path) - 1):\n",
    "        sum = sum + G[path[i]][path[i+1]]['weight']\n",
    "    return sum"
   ]
  },
  {
   "cell_type": "code",
   "execution_count": 3,
   "metadata": {},
   "outputs": [],
   "source": [
    "# 2-otimal:\n",
    "def two_opt(G,C):\n",
    "    # as variáveis step1, step2, step3, step4 são para controlar os loops do algorítmo\n",
    "    step1 = True\n",
    "    while(step1):\n",
    "        step1 = False\n",
    "        global i\n",
    "        global j\n",
    "        i = 0\n",
    "        step2 = True\n",
    "        while(step2):\n",
    "            step2 = False\n",
    "            j = i + 2\n",
    "            step3 = True\n",
    "            while(step3):\n",
    "                step3 = False\n",
    "                Cij = C[:]\n",
    "                # Torção dos vértices\n",
    "                swap = Cij[j]\n",
    "                Cij[j] = Cij[i+1]\n",
    "                Cij[i+1] = swap\n",
    "                if(w(G, Cij) < w(G, C)): # Caso o novo caminho for menor, recomeçar o algoritmo usando o novo caminho\n",
    "                    C = Cij[:]\n",
    "                    step1 = True\n",
    "                    step4 = False\n",
    "                else:\n",
    "                    step4 = True\n",
    "                    step1 = False\n",
    "                while(step4): # Se não, avance o índice j\n",
    "                    step4 = False\n",
    "                    j = j + 1\n",
    "                    n = nx.number_of_nodes(G)\n",
    "                    if(j < n):\n",
    "                        step3 = True # Faça nova torção\n",
    "                    else: # Caso o indice j for maior ou igual ao número de vértices, avance i e recalcula j\n",
    "                        i=i+1\n",
    "                        if(i < n-2):\n",
    "                            step2 = True\n",
    "                        else: # Caso o i atingir a metade dos vértices, garantimos que C é o melhor caminho aproximado\n",
    "                            return C"
   ]
  },
  {
   "cell_type": "code",
   "execution_count": 4,
   "metadata": {},
   "outputs": [],
   "source": [
    "A = np.loadtxt('ha30/ha30_dist.txt')\n",
    "G = nx.from_numpy_matrix(A)\n",
    "names = open('ha30/ha30_name.txt', 'r').read().splitlines()"
   ]
  },
  {
   "cell_type": "code",
   "execution_count": 12,
   "metadata": {},
   "outputs": [
    {
     "name": "stdout",
     "output_type": "stream",
     "text": [
      "k: 0 w(C): 625.0\n",
      "['Azores', 'New Orleans', 'Panama City', 'Santiago', 'Buenos Aires', 'Rio de Janeiro', 'Capetown', 'Rome', 'Istanbul', 'Cairo', 'Baghdad', 'Bombay', 'Melbourne', 'Sydney', 'Guam', 'Honolulu', 'Mexico City', 'Chicago', 'New York', 'Montreal', 'London', 'Paris', 'Berlin', 'Moscow', 'Seattle', 'San Francisco', 'Juneau', 'Tokyo', 'Shanghai', 'Manila']\n",
      "k: 1 w(C): 639.0\n",
      "['Bombay', 'Moscow', 'Montreal', 'New York', 'Chicago', 'Seattle', 'Juneau', 'Azores', 'London', 'Paris', 'Berlin', 'Rome', 'Istanbul', 'Melbourne', 'Sydney', 'Honolulu', 'San Francisco', 'New Orleans', 'Mexico City', 'Panama City', 'Santiago', 'Buenos Aires', 'Rio de Janeiro', 'Capetown', 'Cairo', 'Baghdad', 'Manila', 'Shanghai', 'Tokyo', 'Guam']\n",
      "k: 2 w(C): 702.0\n",
      "['Buenos Aires', 'Capetown', 'Cairo', 'Bombay', 'Manila', 'Guam', 'Honolulu', 'Mexico City', 'San Francisco', 'Seattle', 'Juneau', 'Berlin', 'Moscow', 'Sydney', 'Melbourne', 'Santiago', 'Rio de Janeiro', 'Panama City', 'New Orleans', 'Chicago', 'New York', 'Montreal', 'Azores', 'London', 'Paris', 'Rome', 'Istanbul', 'Baghdad', 'Shanghai', 'Tokyo']\n",
      "k: 3 w(C): 693.0\n",
      "['Cairo', 'Istanbul', 'Berlin', 'London', 'Chicago', 'San Francisco', 'Seattle', 'Juneau', 'Tokyo', 'Shanghai', 'Moscow', 'Baghdad', 'Bombay', 'Melbourne', 'Sydney', 'Mexico City', 'New Orleans', 'New York', 'Montreal', 'Azores', 'Paris', 'Rome', 'Capetown', 'Rio de Janeiro', 'Buenos Aires', 'Santiago', 'Panama City', 'Honolulu', 'Guam', 'Manila']\n",
      "k: 4 w(C): 677.0\n",
      "['Capetown', 'Cairo', 'Berlin', 'Montreal', 'San Francisco', 'Seattle', 'Juneau', 'Tokyo', 'Shanghai', 'Moscow', 'Istanbul', 'Baghdad', 'Bombay', 'Manila', 'Honolulu', 'Mexico City', 'Panama City', 'New Orleans', 'Chicago', 'New York', 'Azores', 'London', 'Paris', 'Rome', 'Rio de Janeiro', 'Buenos Aires', 'Santiago', 'Melbourne', 'Sydney', 'Guam']\n",
      "k: 5 w(C): 704.0\n",
      "['Chicago', 'Rome', 'Cairo', 'Rio de Janeiro', 'Santiago', 'Buenos Aires', 'Capetown', 'Manila', 'Guam', 'Honolulu', 'San Francisco', 'Seattle', 'Juneau', 'Tokyo', 'Shanghai', 'Montreal', 'New Orleans', 'Mexico City', 'Panama City', 'New York', 'Azores', 'London', 'Paris', 'Berlin', 'Moscow', 'Istanbul', 'Baghdad', 'Bombay', 'Melbourne', 'Sydney']\n",
      "k: 6 w(C): 677.0\n",
      "['Guam', 'Capetown', 'Buenos Aires', 'Rio de Janeiro', 'Cairo', 'Istanbul', 'Moscow', 'Berlin', 'London', 'Juneau', 'Seattle', 'San Francisco', 'Honolulu', 'Santiago', 'Panama City', 'Mexico City', 'New Orleans', 'Chicago', 'New York', 'Montreal', 'Azores', 'Paris', 'Rome', 'Baghdad', 'Bombay', 'Melbourne', 'Sydney', 'Manila', 'Shanghai', 'Tokyo']\n",
      "k: 7 w(C): 704.0\n",
      "['Honolulu', 'Moscow', 'Berlin', 'Istanbul', 'Cairo', 'Capetown', 'Rio de Janeiro', 'Buenos Aires', 'Santiago', 'Panama City', 'Rome', 'Baghdad', 'Bombay', 'Melbourne', 'Sydney', 'Mexico City', 'New Orleans', 'Chicago', 'New York', 'Montreal', 'Azores', 'Paris', 'London', 'Seattle', 'San Francisco', 'Juneau', 'Guam', 'Manila', 'Shanghai', 'Tokyo']\n",
      "k: 8 w(C): 645.0\n",
      "['Istanbul', 'Baghdad', 'Cairo', 'Capetown', 'Buenos Aires', 'Santiago', 'Melbourne', 'Sydney', 'Manila', 'Bombay', 'Rome', 'London', 'Juneau', 'Seattle', 'San Francisco', 'Chicago', 'Montreal', 'New York', 'New Orleans', 'Mexico City', 'Panama City', 'Rio de Janeiro', 'Azores', 'Paris', 'Berlin', 'Moscow', 'Shanghai', 'Tokyo', 'Guam', 'Honolulu']\n",
      "k: 9 w(C): 657.0\n",
      "['Juneau', 'Moscow', 'Istanbul', 'Cairo', 'Baghdad', 'Bombay', 'Manila', 'Shanghai', 'Tokyo', 'Seattle', 'San Francisco', 'Chicago', 'London', 'Berlin', 'Rome', 'Paris', 'Panama City', 'Mexico City', 'New Orleans', 'New York', 'Montreal', 'Azores', 'Capetown', 'Rio de Janeiro', 'Buenos Aires', 'Santiago', 'Honolulu', 'Guam', 'Sydney', 'Melbourne']\n"
     ]
    }
   ],
   "source": [
    "mapa = {}\n",
    "bests = []\n",
    "# realizando 10 execuções\n",
    "for k in range(0, 10):\n",
    "    P = names[:]\n",
    "    # alterando a iniciliazição a cada execução\n",
    "    if(k>0):\n",
    "        swap = P[0]\n",
    "        P[0] = P[k+2]\n",
    "        P[k+2] = swap\n",
    "    # renomeando os vértices do grafo\n",
    "    for i in range(0,30):\n",
    "        mapa[i] = P[i]\n",
    "    G = nx.relabel_nodes(G, mapa)\n",
    "\n",
    "    best = two_opt(G,P) # obtendo o ciclo a partir do algorítmo 2-otimal\n",
    "    \n",
    "    print(\"k: \" + str(k) +  \" w(C): \" + str(w(G,best)))\n",
    "    print(best)\n",
    "    \n",
    "    bests.append((w(G,best), best)) # criando lista dos ciclos e seu respectivo peso\n",
    "\n",
    "# ordenando a lista\n",
    "bests.sort(key=lambda x: x[0])"
   ]
  },
  {
   "cell_type": "code",
   "execution_count": 14,
   "metadata": {
    "scrolled": true
   },
   "outputs": [
    {
     "name": "stdout",
     "output_type": "stream",
     "text": [
      "1: custo=625.0\n",
      "['Azores', 'New Orleans', 'Panama City', 'Santiago', 'Buenos Aires', 'Rio de Janeiro', 'Capetown', 'Rome', 'Istanbul', 'Cairo', 'Baghdad', 'Bombay', 'Melbourne', 'Sydney', 'Guam', 'Honolulu', 'Mexico City', 'Chicago', 'New York', 'Montreal', 'London', 'Paris', 'Berlin', 'Moscow', 'Seattle', 'San Francisco', 'Juneau', 'Tokyo', 'Shanghai', 'Manila']\n",
      "2: custo=639.0\n",
      "['Bombay', 'Moscow', 'Montreal', 'New York', 'Chicago', 'Seattle', 'Juneau', 'Azores', 'London', 'Paris', 'Berlin', 'Rome', 'Istanbul', 'Melbourne', 'Sydney', 'Honolulu', 'San Francisco', 'New Orleans', 'Mexico City', 'Panama City', 'Santiago', 'Buenos Aires', 'Rio de Janeiro', 'Capetown', 'Cairo', 'Baghdad', 'Manila', 'Shanghai', 'Tokyo', 'Guam']\n",
      "3: custo=645.0\n",
      "['Istanbul', 'Baghdad', 'Cairo', 'Capetown', 'Buenos Aires', 'Santiago', 'Melbourne', 'Sydney', 'Manila', 'Bombay', 'Rome', 'London', 'Juneau', 'Seattle', 'San Francisco', 'Chicago', 'Montreal', 'New York', 'New Orleans', 'Mexico City', 'Panama City', 'Rio de Janeiro', 'Azores', 'Paris', 'Berlin', 'Moscow', 'Shanghai', 'Tokyo', 'Guam', 'Honolulu']\n"
     ]
    }
   ],
   "source": [
    "print(\"1: custo=\" + str(bests[0][0]))\n",
    "print(bests[0][1])\n",
    "print(\"2: custo=\" + str(bests[1][0]))\n",
    "print(bests[1][1])\n",
    "print(\"3: custo=\" + str(bests[2][0]))\n",
    "print(bests[2][1])"
   ]
  },
  {
   "cell_type": "code",
   "execution_count": 15,
   "metadata": {},
   "outputs": [
    {
     "name": "stdout",
     "output_type": "stream",
     "text": [
      "8: custo=702.0\n",
      "['Buenos Aires', 'Capetown', 'Cairo', 'Bombay', 'Manila', 'Guam', 'Honolulu', 'Mexico City', 'San Francisco', 'Seattle', 'Juneau', 'Berlin', 'Moscow', 'Sydney', 'Melbourne', 'Santiago', 'Rio de Janeiro', 'Panama City', 'New Orleans', 'Chicago', 'New York', 'Montreal', 'Azores', 'London', 'Paris', 'Rome', 'Istanbul', 'Baghdad', 'Shanghai', 'Tokyo']\n",
      "9: custo=704.0\n",
      "['Chicago', 'Rome', 'Cairo', 'Rio de Janeiro', 'Santiago', 'Buenos Aires', 'Capetown', 'Manila', 'Guam', 'Honolulu', 'San Francisco', 'Seattle', 'Juneau', 'Tokyo', 'Shanghai', 'Montreal', 'New Orleans', 'Mexico City', 'Panama City', 'New York', 'Azores', 'London', 'Paris', 'Berlin', 'Moscow', 'Istanbul', 'Baghdad', 'Bombay', 'Melbourne', 'Sydney']\n",
      "10: custo=704.0\n",
      "['Honolulu', 'Moscow', 'Berlin', 'Istanbul', 'Cairo', 'Capetown', 'Rio de Janeiro', 'Buenos Aires', 'Santiago', 'Panama City', 'Rome', 'Baghdad', 'Bombay', 'Melbourne', 'Sydney', 'Mexico City', 'New Orleans', 'Chicago', 'New York', 'Montreal', 'Azores', 'Paris', 'London', 'Seattle', 'San Francisco', 'Juneau', 'Guam', 'Manila', 'Shanghai', 'Tokyo']\n"
     ]
    }
   ],
   "source": [
    "print(\"8: custo=\" + str(bests[7][0]))\n",
    "print(bests[7][1])\n",
    "print(\"9: custo=\" + str(bests[8][0]))\n",
    "print(bests[8][1])\n",
    "print(\"10: custo=\" + str(bests[9][0]))\n",
    "print(bests[9][1])"
   ]
  },
  {
   "cell_type": "code",
   "execution_count": 16,
   "metadata": {},
   "outputs": [
    {
     "name": "stdout",
     "output_type": "stream",
     "text": [
      "Diferença: 79.0\n"
     ]
    }
   ],
   "source": [
    "print(\"Diferença: \" + str(bests[9][0] - bests[0][0]))"
   ]
  }
 ],
 "metadata": {
  "kernelspec": {
   "display_name": "Python 3",
   "language": "python",
   "name": "python3"
  },
  "language_info": {
   "codemirror_mode": {
    "name": "ipython",
    "version": 3
   },
   "file_extension": ".py",
   "mimetype": "text/x-python",
   "name": "python",
   "nbconvert_exporter": "python",
   "pygments_lexer": "ipython3",
   "version": "3.7.1"
  }
 },
 "nbformat": 4,
 "nbformat_minor": 2
}
